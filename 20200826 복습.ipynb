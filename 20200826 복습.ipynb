{
 "cells": [
  {
   "cell_type": "code",
   "execution_count": 2,
   "metadata": {},
   "outputs": [
    {
     "name": "stdout",
     "output_type": "stream",
     "text": [
      "Hello World\n"
     ]
    }
   ],
   "source": [
    "str1 = 'Hello' + ' World'\n",
    "print(str1)"
   ]
  },
  {
   "cell_type": "code",
   "execution_count": 3,
   "metadata": {},
   "outputs": [
    {
     "name": "stdout",
     "output_type": "stream",
     "text": [
      "HelloHello\n"
     ]
    }
   ],
   "source": [
    "str1 = 'Hello' * 2\n",
    "print(str1)"
   ]
  },
  {
   "cell_type": "code",
   "execution_count": 5,
   "metadata": {},
   "outputs": [
    {
     "name": "stdout",
     "output_type": "stream",
     "text": [
      "e\n",
      "o\n"
     ]
    }
   ],
   "source": [
    "str2 = 'Hello'\n",
    "print(str2[1])\n",
    "print(str2[-1])"
   ]
  },
  {
   "cell_type": "code",
   "execution_count": 6,
   "metadata": {},
   "outputs": [
    {
     "name": "stdout",
     "output_type": "stream",
     "text": [
      "확실한 어\n"
     ]
    }
   ],
   "source": [
    "str = '확실한 어나더 어나더 레벨 얍얍얍'\n",
    "print(str[:5])"
   ]
  },
  {
   "cell_type": "code",
   "execution_count": 8,
   "metadata": {},
   "outputs": [
    {
     "name": "stdout",
     "output_type": "stream",
     "text": [
      "I'm in the blinding light\n"
     ]
    }
   ],
   "source": [
    "str = 'I\\'m in the blinding light'\n",
    "print(str)"
   ]
  },
  {
   "cell_type": "code",
   "execution_count": 10,
   "metadata": {},
   "outputs": [
    {
     "name": "stdout",
     "output_type": "stream",
     "text": [
      "blinding light\n"
     ]
    }
   ],
   "source": [
    "print(str[11:])"
   ]
  },
  {
   "cell_type": "code",
   "execution_count": 11,
   "metadata": {},
   "outputs": [
    {
     "name": "stdout",
     "output_type": "stream",
     "text": [
      "I'm in the\n"
     ]
    }
   ],
   "source": [
    "print(str[:10])"
   ]
  },
  {
   "cell_type": "code",
   "execution_count": 13,
   "metadata": {},
   "outputs": [
    {
     "name": "stdout",
     "output_type": "stream",
     "text": [
      "Imi h lniglgt\n"
     ]
    }
   ],
   "source": [
    "print(str[::2])"
   ]
  },
  {
   "cell_type": "code",
   "execution_count": 16,
   "metadata": {},
   "outputs": [
    {
     "name": "stdout",
     "output_type": "stream",
     "text": [
      "blinding\n",
      "bidn\n"
     ]
    }
   ],
   "source": [
    "print(str[11:19])\n",
    "print(str[11:19:2])"
   ]
  },
  {
   "cell_type": "code",
   "execution_count": 17,
   "metadata": {},
   "outputs": [
    {
     "name": "stdout",
     "output_type": "stream",
     "text": [
      "n the blin\n"
     ]
    }
   ],
   "source": [
    "print(str[-20:-10])"
   ]
  },
  {
   "cell_type": "code",
   "execution_count": 30,
   "metadata": {},
   "outputs": [
    {
     "data": {
      "text/plain": [
       "12"
      ]
     },
     "execution_count": 30,
     "metadata": {},
     "output_type": "execute_result"
    }
   ],
   "source": [
    "str = '''이러지도 못하는데 저러지도 못하네 \n",
    "그저 바라보며 ba-ba-ba-baby \n",
    "매일 상상만 해 이름과 함께 \n",
    "쓱 말을 놨네 baby \n",
    "아직 우린 모르는 사인데 \n",
    "아무거나 걸쳐도 아름다워 \n",
    "거울 속 단 둘이서 하는 \n",
    "fashion show show \n",
    "이번에 정말 꼭꼭 내가 먼저 talk talk \n",
    "다짐 뿐인걸 매번 다짐 뿐인걸 \n",
    "나나나나나나나 \n",
    "콧노래가 나오다가 나도 몰래 \n",
    "눈물 날 것 같애 \n",
    "아닌 것 같애 내가 아닌 것 같애 \n",
    "I love you so much \n",
    "이미 난 다 컸다고 생각하는데 \n",
    "어쩌면 내 맘인데 왜 \n",
    "내 맘대로 할 수 없는 건 왜 \n",
    "밀어내려고 하면 할수록 \n",
    "자꾸 끌려 왜 자꾸 자꾸 끌려 baby \n",
    "I’m like TT \n",
    "Just like TT \n",
    "이런 내 맘 모르고 너무해 너무해 \n",
    "I’m like TT \n",
    "Just like TT \n",
    "Tell me that you’d be my baby \n",
    "어처구니 없다고 해 \n",
    "얼굴 값을 못한대 \n",
    "전혀 위로 안돼 ba-ba-ba-baby \n",
    "미칠 것 같애 \n",
    "이 와중에 왜 \n",
    "배는 또 고픈 건데 \n",
    "하루 종일 먹기만 하는데 \n",
    "맴매매매 아무 죄도 없는 인형만 때찌 \n",
    "종일 앉아있다가 엎드렸다 \n",
    "시간이 획획획 \n",
    "피부는 왜 이렇게 또 칙칙 \n",
    "자꾸 틱틱 거리고 만 싶지 \n",
    "엄만 귀찮게 계속 왜왜왜왜왜 \n",
    "나나나나나나나 \n",
    "콧노래가 나오다가 나도 몰래 \n",
    "짜증날 것 같애 화날 것 같애 \n",
    "이런 애가 아닌데 \n",
    "I love you so much \n",
    "이미 난 다 컸다고 생각하는데 \n",
    "어쩌면 내 맘인데 왜 \n",
    "내 맘대로 할 수 없는 건 왜 \n",
    "밀어내려고 하면 할수록 \n",
    "자꾸 끌려 왜 자꾸 자꾸 끌려 baby \n",
    "I’m like TT \n",
    "Just like TT \n",
    "이런 내 맘 모르고 너무해 너무해 \n",
    "I’m like TT \n",
    "Just like TT \n",
    "Tell me that you’d be my baby \n",
    "혹시 이런 나를 알까요 \n",
    "이대로 사라져 버리면 안돼요 \n",
    "이번엔 정말 꼭꼭 내가 먼저 talk talk \n",
    "다짐 뿐인걸 매번 다짐 뿐인걸 \n",
    "이미 난 다 컸다고 생각하는데\n",
    "어쩌면 내 맘인데 왜 \n",
    "내 맘대로 할 수 없는 건 왜\n",
    "밀어내려고 하면 할수록\n",
    "자꾸 끌려 왜 자꾸 자꾸 끌려 baby\n",
    "I’m like TT\n",
    "Just like TT\n",
    "이런 내 맘 모르고 너무해 너무해\n",
    "I’m like TT\n",
    "Just like TT\n",
    "Tell me that you’d be my baby'''\n",
    "str.count('TT')"
   ]
  },
  {
   "cell_type": "code",
   "execution_count": 23,
   "metadata": {},
   "outputs": [
    {
     "data": {
      "text/plain": [
       "True"
      ]
     },
     "execution_count": 23,
     "metadata": {},
     "output_type": "execute_result"
    }
   ],
   "source": [
    "str.startswith('이러지도') # 이 전체 문자열이 어느 단어로 시작하는지를 물어보는 거인듯"
   ]
  },
  {
   "cell_type": "code",
   "execution_count": 24,
   "metadata": {},
   "outputs": [
    {
     "data": {
      "text/plain": [
       "True"
      ]
     },
     "execution_count": 24,
     "metadata": {},
     "output_type": "execute_result"
    }
   ],
   "source": [
    "str.endswith('baby')"
   ]
  },
  {
   "cell_type": "code",
   "execution_count": 28,
   "metadata": {},
   "outputs": [
    {
     "data": {
      "text/plain": [
       "192"
      ]
     },
     "execution_count": 28,
     "metadata": {},
     "output_type": "execute_result"
    }
   ],
   "source": [
    "str.find('콧노래가')"
   ]
  },
  {
   "cell_type": "code",
   "execution_count": 26,
   "metadata": {},
   "outputs": [
    {
     "data": {
      "text/plain": [
       "648"
      ]
     },
     "execution_count": 26,
     "metadata": {},
     "output_type": "execute_result"
    }
   ],
   "source": [
    "str.rfind('콧노래가')"
   ]
  },
  {
   "cell_type": "code",
   "execution_count": 31,
   "metadata": {},
   "outputs": [
    {
     "data": {
      "text/plain": [
       "1160"
      ]
     },
     "execution_count": 31,
     "metadata": {},
     "output_type": "execute_result"
    }
   ],
   "source": [
    "len(str)"
   ]
  },
  {
   "cell_type": "code",
   "execution_count": 33,
   "metadata": {},
   "outputs": [
    {
     "name": "stdout",
     "output_type": "stream",
     "text": [
      "['이러지도 못하는데 저러지도 못하네 ', '그저 바라보며 ba-ba-ba-baby ', '매일 상상만 해 이름과 함께 ', '쓱 말을 놨네 baby ', '아직 우린 모르는 사인데 ', '아무거나 걸쳐도 아름다워 ', '거울 속 단 둘이서 하는 ', 'fashion show show ', '이번에 정말 꼭꼭 내가 먼저 talk talk ', '다짐 뿐인걸 매번 다짐 뿐인걸 ', '나나나나나나나 ', '콧노래가 나오다가 나도 몰래 ', '눈물 날 것 같애 ', '아닌 것 같애 내가 아닌 것 같애 ', 'I love you so much ', '이미 난 다 컸다고 생각하는데 ', '어쩌면 내 맘인데 왜 ', '내 맘대로 할 수 없는 건 왜 ', '밀어내려고 하면 할수록 ', '자꾸 끌려 왜 자꾸 자꾸 끌려 baby ', 'I’m like TT ', 'Just like TT ', '이런 내 맘 모르고 너무해 너무해 ', 'I’m like TT ', 'Just like TT ', 'Tell me that you’d be my baby ', '어처구니 없다고 해 ', '얼굴 값을 못한대 ', '전혀 위로 안돼 ba-ba-ba-baby ', '미칠 것 같애 ', '이 와중에 왜 ', '배는 또 고픈 건데 ', '하루 종일 먹기만 하는데 ', '맴매매매 아무 죄도 없는 인형만 때찌 ', '종일 앉아있다가 엎드렸다 ', '시간이 획획획 ', '피부는 왜 이렇게 또 칙칙 ', '자꾸 틱틱 거리고 만 싶지 ', '엄만 귀찮게 계속 왜왜왜왜왜 ', '나나나나나나나 ', '콧노래가 나오다가 나도 몰래 ', '짜증날 것 같애 화날 것 같애 ', '이런 애가 아닌데 ', 'I love you so much ', '이미 난 다 컸다고 생각하는데 ', '어쩌면 내 맘인데 왜 ', '내 맘대로 할 수 없는 건 왜 ', '밀어내려고 하면 할수록 ', '자꾸 끌려 왜 자꾸 자꾸 끌려 baby ', 'I’m like TT ', 'Just like TT ', '이런 내 맘 모르고 너무해 너무해 ', 'I’m like TT ', 'Just like TT ', 'Tell me that you’d be my baby ', '혹시 이런 나를 알까요 ', '이대로 사라져 버리면 안돼요 ', '이번엔 정말 꼭꼭 내가 먼저 talk talk ', '다짐 뿐인걸 매번 다짐 뿐인걸 ', '이미 난 다 컸다고 생각하는데', '어쩌면 내 맘인데 왜 ', '내 맘대로 할 수 없는 건 왜', '밀어내려고 하면 할수록', '자꾸 끌려 왜 자꾸 자꾸 끌려 baby', 'I’m like TT', 'Just like TT', '이런 내 맘 모르고 너무해 너무해', 'I’m like TT', 'Just like TT', 'Tell me that you’d be my baby']\n"
     ]
    }
   ],
   "source": [
    "mylist = str.split('\\n')\n",
    "print(mylist)"
   ]
  },
  {
   "cell_type": "code",
   "execution_count": 36,
   "metadata": {},
   "outputs": [
    {
     "data": {
      "text/plain": [
       "'이러지도 못하는데 저러지도 못하네 *그저 바라보며 ba-ba-ba-baby *매일 상상만 해 이름과 함께 *쓱 말을 놨네 baby *아직 우린 모르는 사인데 *아무거나 걸쳐도 아름다워 *거울 속 단 둘이서 하는 *fashion show show *이번에 정말 꼭꼭 내가 먼저 talk talk *다짐 뿐인걸 매번 다짐 뿐인걸 *나나나나나나나 *콧노래가 나오다가 나도 몰래 *눈물 날 것 같애 *아닌 것 같애 내가 아닌 것 같애 *I love you so much *이미 난 다 컸다고 생각하는데 *어쩌면 내 맘인데 왜 *내 맘대로 할 수 없는 건 왜 *밀어내려고 하면 할수록 *자꾸 끌려 왜 자꾸 자꾸 끌려 baby *I’m like TT *Just like TT *이런 내 맘 모르고 너무해 너무해 *I’m like TT *Just like TT *Tell me that you’d be my baby *어처구니 없다고 해 *얼굴 값을 못한대 *전혀 위로 안돼 ba-ba-ba-baby *미칠 것 같애 *이 와중에 왜 *배는 또 고픈 건데 *하루 종일 먹기만 하는데 *맴매매매 아무 죄도 없는 인형만 때찌 *종일 앉아있다가 엎드렸다 *시간이 획획획 *피부는 왜 이렇게 또 칙칙 *자꾸 틱틱 거리고 만 싶지 *엄만 귀찮게 계속 왜왜왜왜왜 *나나나나나나나 *콧노래가 나오다가 나도 몰래 *짜증날 것 같애 화날 것 같애 *이런 애가 아닌데 *I love you so much *이미 난 다 컸다고 생각하는데 *어쩌면 내 맘인데 왜 *내 맘대로 할 수 없는 건 왜 *밀어내려고 하면 할수록 *자꾸 끌려 왜 자꾸 자꾸 끌려 baby *I’m like TT *Just like TT *이런 내 맘 모르고 너무해 너무해 *I’m like TT *Just like TT *Tell me that you’d be my baby *혹시 이런 나를 알까요 *이대로 사라져 버리면 안돼요 *이번엔 정말 꼭꼭 내가 먼저 talk talk *다짐 뿐인걸 매번 다짐 뿐인걸 *이미 난 다 컸다고 생각하는데*어쩌면 내 맘인데 왜 *내 맘대로 할 수 없는 건 왜*밀어내려고 하면 할수록*자꾸 끌려 왜 자꾸 자꾸 끌려 baby*I’m like TT*Just like TT*이런 내 맘 모르고 너무해 너무해*I’m like TT*Just like TT*Tell me that you’d be my baby'"
      ]
     },
     "execution_count": 36,
     "metadata": {},
     "output_type": "execute_result"
    }
   ],
   "source": [
    "'*'.join(mylist)"
   ]
  },
  {
   "cell_type": "code",
   "execution_count": 37,
   "metadata": {},
   "outputs": [
    {
     "name": "stdout",
     "output_type": "stream",
     "text": [
      "['이러지도 못하는데 저러지도 못하네 ', '그저 바라보며 ba-ba-ba-baby ', '매일 상상만 해 이름과 함께 ', '쓱 말을 놨네 baby ', '아직 우린 모르는 사인데 ', '아무거나 걸쳐도 아름다워 ', '거울 속 단 둘이서 하는 ', 'fashion show show ', '이번에 정말 꼭꼭 내가 먼저 talk talk ', '다짐 뿐인걸 매번 다짐 뿐인걸 ', '나나나나나나나 ', '콧노래가 나오다가 나도 몰래 ', '눈물 날 것 같애 ', '아닌 것 같애 내가 아닌 것 같애 ', 'I love you so much ', '이미 난 다 컸다고 생각하는데 ', '어쩌면 내 맘인데 왜 ', '내 맘대로 할 수 없는 건 왜 ', '밀어내려고 하면 할수록 ', '자꾸 끌려 왜 자꾸 자꾸 끌려 baby ']\n"
     ]
    }
   ],
   "source": [
    "print(mylist[:20])"
   ]
  },
  {
   "cell_type": "code",
   "execution_count": 38,
   "metadata": {},
   "outputs": [
    {
     "data": {
      "text/plain": [
       "'We are we are we artist baby'"
      ]
     },
     "execution_count": 38,
     "metadata": {},
     "output_type": "execute_result"
    }
   ],
   "source": [
    "zico_artist = 'We are we are we artist baby!!!!'\n",
    "zico_artist.strip('!')"
   ]
  },
  {
   "cell_type": "code",
   "execution_count": 39,
   "metadata": {},
   "outputs": [
    {
     "data": {
      "text/plain": [
       "'We Are We Are We Artist Baby!!!!'"
      ]
     },
     "execution_count": 39,
     "metadata": {},
     "output_type": "execute_result"
    }
   ],
   "source": [
    "zico_artist.title()"
   ]
  },
  {
   "cell_type": "code",
   "execution_count": 41,
   "metadata": {},
   "outputs": [
    {
     "name": "stdout",
     "output_type": "stream",
     "text": [
      "WE ARE WE ARE WE ARTIST BABY!!!!\n",
      "we are we are we artist baby!!!!\n"
     ]
    }
   ],
   "source": [
    "print(zico_artist.upper())\n",
    "print(zico_artist.lower())"
   ]
  },
  {
   "cell_type": "code",
   "execution_count": 43,
   "metadata": {},
   "outputs": [
    {
     "data": {
      "text/plain": [
       "'wE ARE WE ARE WE ARTIST BABY!!!!'"
      ]
     },
     "execution_count": 43,
     "metadata": {},
     "output_type": "execute_result"
    }
   ],
   "source": [
    "zico_artist.swapcase()"
   ]
  },
  {
   "cell_type": "code",
   "execution_count": 46,
   "metadata": {},
   "outputs": [
    {
     "data": {
      "text/plain": [
       "'                        We are we are we artist baby!!!!                        '"
      ]
     },
     "execution_count": 46,
     "metadata": {},
     "output_type": "execute_result"
    }
   ],
   "source": [
    "zico_artist.center(80)"
   ]
  },
  {
   "cell_type": "code",
   "execution_count": 47,
   "metadata": {},
   "outputs": [
    {
     "name": "stdout",
     "output_type": "stream",
     "text": [
      "We are we are we artist baby!!!!                  \n",
      "                  We are we are we artist baby!!!!\n"
     ]
    }
   ],
   "source": [
    "print(zico_artist.ljust(50))\n",
    "print(zico_artist.rjust(50))"
   ]
  },
  {
   "cell_type": "code",
   "execution_count": 48,
   "metadata": {},
   "outputs": [
    {
     "name": "stdout",
     "output_type": "stream",
     "text": [
      "['피카츄', '라이츄', '피카츄']\n"
     ]
    }
   ],
   "source": [
    "poketmon = ['피카츄', '라이츄', '피카츄']\n",
    "print(poketmon)"
   ]
  },
  {
   "cell_type": "code",
   "execution_count": 49,
   "metadata": {},
   "outputs": [
    {
     "data": {
      "text/plain": [
       "['c', 'a', 't']"
      ]
     },
     "execution_count": 49,
     "metadata": {},
     "output_type": "execute_result"
    }
   ],
   "source": [
    "list('cat')"
   ]
  },
  {
   "cell_type": "code",
   "execution_count": 50,
   "metadata": {},
   "outputs": [
    {
     "data": {
      "text/plain": [
       "['hello', '나는', '튜플입니다']"
      ]
     },
     "execution_count": 50,
     "metadata": {},
     "output_type": "execute_result"
    }
   ],
   "source": [
    "my_tuple = ('hello', '나는', '튜플입니다')\n",
    "list(my_tuple)"
   ]
  },
  {
   "cell_type": "code",
   "execution_count": 51,
   "metadata": {},
   "outputs": [
    {
     "data": {
      "text/plain": [
       "['2020', '08', '27']"
      ]
     },
     "execution_count": 51,
     "metadata": {},
     "output_type": "execute_result"
    }
   ],
   "source": [
    "today = '2020-08-27'\n",
    "today.split('-')"
   ]
  },
  {
   "cell_type": "code",
   "execution_count": 52,
   "metadata": {},
   "outputs": [
    {
     "name": "stdout",
     "output_type": "stream",
     "text": [
      "트와이스\n",
      "러블리즈\n"
     ]
    }
   ],
   "source": [
    "singer = ['트와이스', '레드벨벳', '러블리즈']\n",
    "print(singer[0])\n",
    "print(singer[-1])"
   ]
  },
  {
   "cell_type": "code",
   "execution_count": 53,
   "metadata": {},
   "outputs": [
    {
     "name": "stdout",
     "output_type": "stream",
     "text": [
      "['트와이스', '레드벨벳', '러블리즈', '린킨파크', '볼빨간사춘기']\n"
     ]
    }
   ],
   "source": [
    "band = ['린킨파크', '볼빨간사춘기']\n",
    "group = singer + band\n",
    "print(group)"
   ]
  },
  {
   "cell_type": "code",
   "execution_count": 54,
   "metadata": {},
   "outputs": [
    {
     "name": "stdout",
     "output_type": "stream",
     "text": [
      "[['트와이스', '레드벨벳', '러블리즈'], ['린킨파크', '볼빨간사춘기']]\n"
     ]
    }
   ],
   "source": [
    "group = [singer, band]\n",
    "print(group)"
   ]
  },
  {
   "cell_type": "code",
   "execution_count": 56,
   "metadata": {},
   "outputs": [
    {
     "name": "stdout",
     "output_type": "stream",
     "text": [
      "['린킨파크', '볼빨간사춘기']\n"
     ]
    }
   ],
   "source": [
    "print(group[1])"
   ]
  },
  {
   "cell_type": "code",
   "execution_count": 58,
   "metadata": {},
   "outputs": [
    {
     "name": "stdout",
     "output_type": "stream",
     "text": [
      "['트와이스', '레드벨벳', '러블리즈', '린킨파크', '마룬5']\n"
     ]
    }
   ],
   "source": [
    "group = singer + band\n",
    "group[4] = '마룬5'\n",
    "print(group)"
   ]
  },
  {
   "cell_type": "code",
   "execution_count": 59,
   "metadata": {},
   "outputs": [
    {
     "name": "stdout",
     "output_type": "stream",
     "text": [
      "['마룬5', '린킨파크', '러블리즈', '레드벨벳', '트와이스']\n"
     ]
    }
   ],
   "source": [
    "print(group[::-1])"
   ]
  },
  {
   "cell_type": "code",
   "execution_count": 60,
   "metadata": {},
   "outputs": [
    {
     "name": "stdout",
     "output_type": "stream",
     "text": [
      "['린킨파크', '볼빨간사춘기', '오아시스']\n"
     ]
    }
   ],
   "source": [
    "band.append('오아시스')\n",
    "print(band)"
   ]
  },
  {
   "cell_type": "code",
   "execution_count": 61,
   "metadata": {},
   "outputs": [
    {
     "name": "stdout",
     "output_type": "stream",
     "text": [
      "['트와이스', '레드벨벳', '러블리즈', '린킨파크', '마룬5', ['린킨파크', '볼빨간사춘기', '오아시스']]\n"
     ]
    }
   ],
   "source": [
    "group.append(band)\n",
    "print(group)"
   ]
  },
  {
   "cell_type": "code",
   "execution_count": 64,
   "metadata": {},
   "outputs": [
    {
     "name": "stdout",
     "output_type": "stream",
     "text": [
      "['트와이스', '레드벨벳', '러블리즈', '린킨파크', '마룬5']\n"
     ]
    }
   ],
   "source": [
    "del group[5]\n",
    "print(group)"
   ]
  },
  {
   "cell_type": "code",
   "execution_count": 65,
   "metadata": {},
   "outputs": [
    {
     "name": "stdout",
     "output_type": "stream",
     "text": [
      "['트와이스', '레드벨벳', '러블리즈', '린킨파크', '마룬5', '린킨파크', '볼빨간사춘기', '오아시스']\n"
     ]
    }
   ],
   "source": [
    "group.extend(band)\n",
    "print(group)"
   ]
  },
  {
   "cell_type": "code",
   "execution_count": 67,
   "metadata": {},
   "outputs": [
    {
     "name": "stdout",
     "output_type": "stream",
     "text": [
      "['트와이스', '레드벨벳', '러블리즈', '마룬5', '린킨파크', '볼빨간사춘기', '오아시스']\n"
     ]
    }
   ],
   "source": [
    "group.remove('린킨파크') # 처음으로 일치하는 값만 삭제하는 듯 그럼 일치하는 전부 삭제하는 건?\n",
    "print(group)"
   ]
  },
  {
   "cell_type": "code",
   "execution_count": 68,
   "metadata": {},
   "outputs": [
    {
     "name": "stdout",
     "output_type": "stream",
     "text": [
      "['트와이스', '레드벨벳', '러블리즈', '마룬5', '린킨파크', '볼빨간사춘기']\n"
     ]
    }
   ],
   "source": [
    "group.pop()\n",
    "print(group)"
   ]
  },
  {
   "cell_type": "code",
   "execution_count": 70,
   "metadata": {},
   "outputs": [
    {
     "name": "stdout",
     "output_type": "stream",
     "text": [
      "['트와이스', '레드벨벳', '러블리즈', '마룬5', '린킨파크', '볼빨간사춘기', '오', '아', '시', '스', '오아시스']\n"
     ]
    }
   ],
   "source": [
    "group += ['오아시스']\n",
    "print(group)"
   ]
  },
  {
   "cell_type": "code",
   "execution_count": 72,
   "metadata": {},
   "outputs": [
    {
     "name": "stdout",
     "output_type": "stream",
     "text": [
      "['트와이스', '레드벨벳', '러블리즈', '오아시스']\n"
     ]
    }
   ],
   "source": [
    "del group[-5:-1]\n",
    "print(group)"
   ]
  },
  {
   "cell_type": "code",
   "execution_count": 77,
   "metadata": {},
   "outputs": [
    {
     "name": "stdout",
     "output_type": "stream",
     "text": [
      "['트와이스', '레드벨벳', '러블리즈', '볼빨간사춘기', '린킨파크', '마룬5', '오아시스']\n"
     ]
    }
   ],
   "source": [
    "group.insert(3, '볼빨간사춘기')\n",
    "print(group)"
   ]
  },
  {
   "cell_type": "code",
   "execution_count": null,
   "metadata": {},
   "outputs": [],
   "source": []
  }
 ],
 "metadata": {
  "kernelspec": {
   "display_name": "Python 3",
   "language": "python",
   "name": "python3"
  },
  "language_info": {
   "codemirror_mode": {
    "name": "ipython",
    "version": 3
   },
   "file_extension": ".py",
   "mimetype": "text/x-python",
   "name": "python",
   "nbconvert_exporter": "python",
   "pygments_lexer": "ipython3",
   "version": "3.7.6"
  }
 },
 "nbformat": 4,
 "nbformat_minor": 4
}
